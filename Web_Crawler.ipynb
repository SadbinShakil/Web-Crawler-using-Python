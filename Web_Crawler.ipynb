{
  "nbformat": 4,
  "nbformat_minor": 0,
  "metadata": {
    "colab": {
      "name": "Web Crawler.ipynb",
      "provenance": [],
      "collapsed_sections": []
    },
    "kernelspec": {
      "display_name": "Python 3",
      "name": "python3"
    },
    "language_info": {
      "name": "python"
    }
  },
  "cells": [
    {
      "cell_type": "code",
      "metadata": {
        "id": "I9mY5EHshd90"
      },
      "source": [
        "import requests\n",
        "import re\n"
      ],
      "execution_count": 19,
      "outputs": []
    },
    {
      "cell_type": "code",
      "metadata": {
        "id": "VBqgryRHWoau"
      },
      "source": [
        "def get_page_content(url):\n",
        "  r=requests.get(url)\n",
        "  html_text=r.text\n",
        "  html_text=re.sub(\"\\s+\",\" \",html_text)\n",
        "  #print(\"hello\"+html_text)\n",
        "  return html_text\n",
        "\n",
        "#first page all product link extract by regular expression\n",
        "def extract_things(content):\n",
        "  regex=re.compile(r'<div class=\"grid-item small--one-half medium--one-fifth large--one-fifth\">.*?<a href=\"(.*?)\"')\n",
        "  results=re.findall(regex,content)\n",
        "  #print (results)\n",
        "  links=[\"https://shopify.bayparkphotos.com.au/\" + x for x in results]\n",
        "  return links  \n",
        "\n",
        "\n",
        "def get_product_title(url):\n",
        "  content=get_page_content(url)\n",
        "  #print(content)\n",
        "  regex_for_title=re.compile(r'<title>(.*?)</title>')\n",
        "  results=re.findall(regex_for_title,content)\n",
        "  #print(results)\n",
        "  return results\n",
        "\n",
        "def get_product_price(url):\n",
        "  content=get_page_content(url)\n",
        "  #print(content)\n",
        "  regex_for_price=re.compile(r'<meta property=\"og:price:amount\" content=\"(.*?)\">')\n",
        "  results=re.findall(regex_for_price,content)\n",
        "  #print(results)\n",
        "  return results\n",
        "\n",
        "\n",
        "\n",
        "def get_img_url(url):\n",
        "  content=get_page_content(url)\n",
        "  print(content)\n",
        "  regex_for_img_url=re.compile(r'<meta property=\"og:image\" content=\"(.*?)\">')\n",
        "  results=re.findall(regex_for_img_url,content)\n",
        "  #print(results)\n",
        "  return results\n",
        "\n",
        "\n",
        "\n",
        "\n",
        "def get_product_des(url):\n",
        "  content=get_page_content(url)\n",
        "  #print(content)\n",
        "  regex_for_des=re.compile(r'<meta name=\"description\" content=\"(.*?)\">')\n",
        "  results=re.findall(regex_for_des,content)\n",
        "  #print(results)\n",
        "  return results\n",
        "\n",
        "\n",
        "if __name__ == \"__main__\":\n",
        "  url=\"https://shopify.bayparkphotos.com.au/\"\n",
        "  ##url2=\"https://shopify.bayparkphotos.com.au/collections/camera-bags-backpacks-hard-cases/products/tenba-skyline-13-camera-backpack-black\"\n",
        "  content=get_page_content(url)\n",
        "  #a=get_product_details(url2)\n",
        "  #print(content)\n",
        "  links=extract_things(content)\n",
        "  #a=[]\n",
        "  #a.append(links)\n",
        "  with open('out.txt', 'w') as f:\n",
        "    print(links, file=f)\n",
        "  #print(links)\n"
      ],
      "execution_count": 67,
      "outputs": []
    },
    {
      "cell_type": "code",
      "metadata": {
        "id": "29ypT3lDWoel",
        "colab": {
          "base_uri": "https://localhost:8080/"
        },
        "outputId": "872c0413-d758-4860-f8a7-ba97c268d26d"
      },
      "source": [
        "f = open(\"out.txt\", \"r\")\n",
        "print(f.readline())"
      ],
      "execution_count": 21,
      "outputs": [
        {
          "output_type": "stream",
          "text": [
            "['https://shopify.bayparkphotos.com.au//collections/camera-bags-backpacks-hard-cases/products/tenba-skyline-13-camera-backpack-black', 'https://shopify.bayparkphotos.com.au//collections/camera-bags-backpacks-hard-cases/products/benro-moveover8-18mm-dual-carbon-rail-60cm-slider-c08d6', 'https://shopify.bayparkphotos.com.au//collections/camera-bags-backpacks-hard-cases/products/shootools-bag-slider-150', 'https://shopify.bayparkphotos.com.au//collections/camera-bags-backpacks-hard-cases/products/shootools-bag-slider-80', 'https://shopify.bayparkphotos.com.au//collections/camera-bags-backpacks-hard-cases/products/shootools-bag-slider-100', 'https://shopify.bayparkphotos.com.au//collections/camera-bags-backpacks-hard-cases/products/tenba-dna-16-dslr-messenger-bag', 'https://shopify.bayparkphotos.com.au//collections/camera-bags-backpacks-hard-cases/products/tenba-dna-16-messenger-bag', 'https://shopify.bayparkphotos.com.au//collections/camera-bags-backpacks-hard-cases/products/tenba-dna-13-messenger-bag', 'https://shopify.bayparkphotos.com.au//collections/camera-bags-backpacks-hard-cases/products/tenba-dna-9-messenger-bag', 'https://shopify.bayparkphotos.com.au//collections/camera-bags-backpacks-hard-cases/products/blackrapid-joey-j1-pocket-small', 'https://shopify.bayparkphotos.com.au//collections/camera-bags-backpacks-hard-cases/products/blackrapid-traveler-bag', 'https://shopify.bayparkphotos.com.au//collections/camera-bags-backpacks-hard-cases/products/vanguard-supreme-46d-hard-case-with-divider-bag', 'https://shopify.bayparkphotos.com.au//collections/camera-bags-backpacks-hard-cases/products/camera-case-vanguard-supreme-27d-carry-case-with-divider-bag', 'https://shopify.bayparkphotos.com.au//collections/camera-bags-backpacks-hard-cases/products/vanguard-supreme-40d-hard-case-with-divider-bag', 'https://shopify.bayparkphotos.com.au//collections/camera-bags-backpacks-hard-cases/products/vanguard-vgp-3202-photo-video-case', 'https://shopify.bayparkphotos.com.au//collections/photo-albums/products/photo-splits-photo-tabs', 'https://shopify.bayparkphotos.com.au//collections/photo-albums/products/cumberland-large-black-refillable-dry-mount-album-fm6670', 'https://shopify.bayparkphotos.com.au//collections/photo-albums/products/refills-cumberland-medium-fm6650r', 'https://shopify.bayparkphotos.com.au//collections/photo-albums/products/refills-cumberland-large-fm6670r', 'https://shopify.bayparkphotos.com.au//collections/photo-albums/products/magic-dots-medium', 'https://shopify.bayparkphotos.com.au//collections/photo-albums/products/monza-6x4-slip-in-300-photo-album-me140', 'https://shopify.bayparkphotos.com.au//collections/photo-albums/products/glamour-300-capacity-6x4-photo-album', 'https://shopify.bayparkphotos.com.au//collections/photo-albums/products/cumberland-medium-black-refillable-dry-mount-album-fm6650', 'https://shopify.bayparkphotos.com.au//collections/photo-albums/products/a4-buckram-scrapbook-refills-3500a4s', 'https://shopify.bayparkphotos.com.au//collections/photo-albums/products/photo-corners-1000-capacity-walther', 'https://shopify.bayparkphotos.com.au//collections/photo-albums/products/glorious-leather-300-capacity-6x4-photo-album-red-3043g8r', 'https://shopify.bayparkphotos.com.au//collections/photo-albums/products/buckram-self-adhesive-album-refills']\n",
            "\n"
          ],
          "name": "stdout"
        }
      ]
    },
    {
      "cell_type": "code",
      "metadata": {
        "id": "aCrrVXaDWoi5"
      },
      "source": [
        "import csv\n",
        "\n",
        "crimefile = open('out.txt', 'r')\n",
        "reader = csv.reader(crimefile)\n",
        "allRows = [row for row in reader]"
      ],
      "execution_count": 22,
      "outputs": []
    },
    {
      "cell_type": "code",
      "metadata": {
        "id": "OtfPRXSjwL37"
      },
      "source": [
        "pip install django\n"
      ],
      "execution_count": null,
      "outputs": []
    },
    {
      "cell_type": "code",
      "metadata": {
        "id": "lp7euipWWokM"
      },
      "source": [
        "import django\n",
        "from operator import length_hint\n",
        "from django.contrib.admin.utils import flatten\n",
        "all_links=flatten(allRows)\n"
      ],
      "execution_count": 29,
      "outputs": []
    },
    {
      "cell_type": "code",
      "metadata": {
        "id": "JdD88-5wwqst",
        "colab": {
          "base_uri": "https://localhost:8080/"
        },
        "outputId": "eddcaa57-b92a-4774-9e1b-6ef5787c75f6"
      },
      "source": [
        "a=all_links[5].replace('\\'', '')\n",
        "length_hint(all_links)"
      ],
      "execution_count": 30,
      "outputs": [
        {
          "output_type": "execute_result",
          "data": {
            "text/plain": [
              "27"
            ]
          },
          "metadata": {
            "tags": []
          },
          "execution_count": 30
        }
      ]
    },
    {
      "cell_type": "code",
      "metadata": {
        "colab": {
          "base_uri": "https://localhost:8080/"
        },
        "id": "HMsRpfkrpyYR",
        "outputId": "c9c593c2-6479-4fbd-de07-ce35c8d0263f"
      },
      "source": [
        "get_product_title(all_links[25].replace('\\'', ''))"
      ],
      "execution_count": 31,
      "outputs": [
        {
          "output_type": "execute_result",
          "data": {
            "text/plain": [
              "[' GLORIOUS LEATHER 300 CAPACITY 6&quot;X4&quot; PHOTO ALBUM (3043G8) &ndash; Bay Park Photos ']"
            ]
          },
          "metadata": {
            "tags": []
          },
          "execution_count": 31
        }
      ]
    },
    {
      "cell_type": "code",
      "metadata": {
        "id": "YJyCJGPonP1k"
      },
      "source": [
        "all_title=[]\n",
        "for i in range(1 , 27):\n",
        "  a=get_product_title(all_links[i].replace('\\'', ''))\n",
        "  all_title.append(a)\n",
        "\n",
        "len2=length_hint(all_title)\n",
        "\n",
        "for i in range(len2):\n",
        "  print(all_title[i])\n"
      ],
      "execution_count": null,
      "outputs": []
    },
    {
      "cell_type": "code",
      "metadata": {
        "id": "JMF6CFeCsCpf"
      },
      "source": [
        ""
      ],
      "execution_count": null,
      "outputs": []
    },
    {
      "cell_type": "code",
      "metadata": {
        "id": "k6RjUnk6WorC"
      },
      "source": [
        "all_price=[]\n",
        "for i in range(1 , 27):\n",
        "  a=get_product_price(all_links[i].replace('\\'', ''))\n",
        "  all_price.append(a)\n",
        "\n",
        "len3=length_hint(all_price)\n",
        "for i in range(len3):\n",
        "  print(all_price[i])"
      ],
      "execution_count": null,
      "outputs": []
    },
    {
      "cell_type": "code",
      "metadata": {
        "id": "gYpy-3sBWovS"
      },
      "source": [
        "all_img_url=[]\n",
        "for i in range(1 , 27):\n",
        "  a=get_img_url(all_links[i].replace('\\'', ''))\n",
        "  all_img_url.append(a)\n",
        "\n",
        "len4=length_hint(all_img_url)\n",
        "for i in range(len4):\n",
        "  print(all_img_url[i])"
      ],
      "execution_count": null,
      "outputs": []
    },
    {
      "cell_type": "code",
      "metadata": {
        "id": "iiaTk03vWow-"
      },
      "source": [
        "all_prod_des=[]\n",
        "for i in range(1 , 27):\n",
        "  a=get_product_des(all_links[i].replace('\\'', ''))\n",
        "  all_prod_des.append(a)\n",
        "\n",
        "len5=length_hint(all_img_url)\n",
        "for i in range(len5):\n",
        "  print(all_prod_des[i])"
      ],
      "execution_count": null,
      "outputs": []
    },
    {
      "cell_type": "code",
      "metadata": {
        "id": "c6o0cuxPWo0D"
      },
      "source": [
        "\n",
        "# Importing library\n",
        "import csv\n",
        "  \n",
        "# data to be written row-wise in csv fil\n",
        "data1 = all_title\n",
        "data2=all_price\n",
        "data3=all_prod_des\n",
        "data4=all_links\n",
        "data5=all_img_url\n",
        "data=[data1,data2,data3,data4,data5]\n",
        "Details=['Title','Price','Details','Links','Image_url']\n",
        "  \n",
        "# opening the csv file in 'w+' mode\n",
        "file = open('product_info.csv', 'w+', newline ='')\n",
        "  \n",
        "# writing the data into the file\n",
        "with file:    \n",
        "    write = csv.writer(file)\n",
        "    write.writerow(Details)\n",
        "    write.writerows(data)"
      ],
      "execution_count": 99,
      "outputs": []
    },
    {
      "cell_type": "code",
      "metadata": {
        "id": "96IfzoDsiFlW"
      },
      "source": [
        "data4=data4.remove(\"['https://shopify.bayparkphotos.com.au//collections/camera-bags-backpacks-hard-cases/products/tenba-skyline-13-camera-backpack-black'\")"
      ],
      "execution_count": 94,
      "outputs": []
    },
    {
      "cell_type": "code",
      "metadata": {
        "colab": {
          "base_uri": "https://localhost:8080/"
        },
        "id": "lFK7qB79i_Rq",
        "outputId": "493dd1db-d4bb-43b1-b351-2de6ec7e425d"
      },
      "source": [
        "length_hint(data4)"
      ],
      "execution_count": 97,
      "outputs": [
        {
          "output_type": "execute_result",
          "data": {
            "text/plain": [
              "26"
            ]
          },
          "metadata": {
            "tags": []
          },
          "execution_count": 97
        }
      ]
    },
    {
      "cell_type": "code",
      "metadata": {
        "colab": {
          "base_uri": "https://localhost:8080/",
          "height": 411
        },
        "id": "rILHHMCcgKFL",
        "outputId": "455ef25f-fde9-4cd4-e15a-76e1b011015f"
      },
      "source": [
        "import pandas as pd\n",
        "filee=pd.read_csv(\"product_info.csv\")\n",
        "filee.head()"
      ],
      "execution_count": 100,
      "outputs": [
        {
          "output_type": "execute_result",
          "data": {
            "text/html": [
              "<div>\n",
              "<style scoped>\n",
              "    .dataframe tbody tr th:only-of-type {\n",
              "        vertical-align: middle;\n",
              "    }\n",
              "\n",
              "    .dataframe tbody tr th {\n",
              "        vertical-align: top;\n",
              "    }\n",
              "\n",
              "    .dataframe thead th {\n",
              "        text-align: right;\n",
              "    }\n",
              "</style>\n",
              "<table border=\"1\" class=\"dataframe\">\n",
              "  <thead>\n",
              "    <tr style=\"text-align: right;\">\n",
              "      <th></th>\n",
              "      <th></th>\n",
              "      <th></th>\n",
              "      <th></th>\n",
              "      <th></th>\n",
              "      <th></th>\n",
              "      <th></th>\n",
              "      <th></th>\n",
              "      <th></th>\n",
              "      <th></th>\n",
              "      <th></th>\n",
              "      <th></th>\n",
              "      <th></th>\n",
              "      <th></th>\n",
              "      <th></th>\n",
              "      <th></th>\n",
              "      <th></th>\n",
              "      <th></th>\n",
              "      <th></th>\n",
              "      <th></th>\n",
              "      <th></th>\n",
              "      <th>Title</th>\n",
              "      <th>Price</th>\n",
              "      <th>Details</th>\n",
              "      <th>Links</th>\n",
              "      <th>Image_url</th>\n",
              "    </tr>\n",
              "  </thead>\n",
              "  <tbody>\n",
              "    <tr>\n",
              "      <th>[' SHOOTOOLS BAG SLIDER 60 &amp;ndash; Bay Park Photos ']</th>\n",
              "      <th>[' SHOOTOOLS BAG SLIDER 150 &amp;ndash; Bay Park Photos ']</th>\n",
              "      <th>[' SHOOTOOLS BAG SLIDER 80 &amp;ndash; Bay Park Photos ']</th>\n",
              "      <th>[' SHOOTOOLS BAG SLIDER 100 &amp;ndash; Bay Park Photos ']</th>\n",
              "      <th>[' Tenba DNA 16 DSLR Messenger Bag &amp;ndash; Bay Park Photos ']</th>\n",
              "      <th>[' Tenba DNA 16 Slim Messenger Bag &amp;ndash; Bay Park Photos ']</th>\n",
              "      <th>[' Tenba DNA 13 Messenger Bag &amp;ndash; Bay Park Photos ']</th>\n",
              "      <th>[' Tenba DNA 9 Messenger Bag &amp;ndash; Bay Park Photos ']</th>\n",
              "      <th>[' BLACKRAPID JOEY J1 POCKET SMALL &amp;ndash; Bay Park Photos ']</th>\n",
              "      <th>[' BLACKRAPID TRAVELER BAG &amp;ndash; Bay Park Photos ']</th>\n",
              "      <th>[' VANGUARD SUPREME 46D HARD CASE WITH DIVIDER BAG &amp;ndash; Bay Park Photos ']</th>\n",
              "      <th>[' Camera Case Vanguard Supreme 27D Carry Case With Divider Bag &amp;ndash; Bay Park Photos ']</th>\n",
              "      <th>[' VANGUARD SUPREME 40D HARD CASE WITH DIVIDER BAG &amp;ndash; Bay Park Photos ']</th>\n",
              "      <th>[' VANGUARD VGP-3202 PHOTO / VIDEO CAMERA CASE &amp;ndash; Bay Park Photos ']</th>\n",
              "      <th>[' Photo Splits (Photo Tabs) &amp;ndash; Bay Park Photos ']</th>\n",
              "      <th>[' CUMBERLAND LARGE BLACK REFILLABLE DRY MOUNT ALBUM FM6670 &amp;ndash; Bay Park Photos ']</th>\n",
              "      <th>[' Refills Cumberland Medium FM6650R &amp;ndash; Bay Park Photos ']</th>\n",
              "      <th>[' Cumberland Large Refills FM6670R &amp;ndash; Bay Park Photos ']</th>\n",
              "      <th>[' Magic Dots - Small (pkt of 700 dots) &amp;ndash; Bay Park Photos ']</th>\n",
              "      <th>[' Monza 6&amp;quot;x4&amp;quot; slip-in 300 photo album (ME140) &amp;ndash; Bay Park Photos ']</th>\n",
              "      <th>[' GLAMOUR 300 CAPACITY 6&amp;quot;X4&amp;quot; PHOTO ALBUM &amp;ndash; Bay Park Photos ']</th>\n",
              "      <td>[' CUMBERLAND MEDIUM BLACK REFILLABLE DRY MOUN...</td>\n",
              "      <td>[' A4 BUCKRAM SCRAPBOOK REFILLS 3500A4S &amp;ndash...</td>\n",
              "      <td>[' PHOTO CORNERS 1000 CAPACITY (WALTHER) &amp;ndas...</td>\n",
              "      <td>[' GLORIOUS LEATHER 300 CAPACITY 6&amp;quot;X4&amp;quo...</td>\n",
              "      <td>[' 404 Not Found &amp;ndash; Bay Park Photos ']</td>\n",
              "    </tr>\n",
              "    <tr>\n",
              "      <th>['210.00']</th>\n",
              "      <th>['279.00']</th>\n",
              "      <th>['210.00']</th>\n",
              "      <th>['249.00']</th>\n",
              "      <th>['279.00']</th>\n",
              "      <th>['249.00']</th>\n",
              "      <th>['229.00']</th>\n",
              "      <th>['199.00']</th>\n",
              "      <th>['33.00']</th>\n",
              "      <th>['99.95']</th>\n",
              "      <th>['399.00']</th>\n",
              "      <th>['99.95']</th>\n",
              "      <th>['319.00']</th>\n",
              "      <th>['119.00']</th>\n",
              "      <th>['8.95']</th>\n",
              "      <th>['110.00']</th>\n",
              "      <th>['44.95']</th>\n",
              "      <th>['59.95']</th>\n",
              "      <th>['7.95']</th>\n",
              "      <th>['49.95']</th>\n",
              "      <th>['29.95']</th>\n",
              "      <td>['79.95']</td>\n",
              "      <td>['15.95']</td>\n",
              "      <td>['15.95']</td>\n",
              "      <td>['49.95']</td>\n",
              "      <td>[]</td>\n",
              "    </tr>\n",
              "    <tr>\n",
              "      <th>['The Cordura® case is tear resistant and padded, with re-enforced sides and stitching. It comes equipped with practical handles for transport and a full-length zip for easy opening. This way, all components are individually protected by the padding to prevent damage during transit. The special design also allows for the']</th>\n",
              "      <th>['The Cordura® case is tear resistant and padded, with re-enforced sides and stitching. It comes equipped with practical handles for transport and a full-length zip for easy opening. This way, all components are individually protected by the padding to prevent damage during transit. The special design also allows for the']</th>\n",
              "      <th>['The Cordura® case is tear resistant and padded, with re-enforced sides and stitching. It comes equipped with practical handles for transport and a full-length zip for easy opening. This way, all components are individually protected by the padding to prevent damage during transit. The special design also allows for the']</th>\n",
              "      <th>['The Cordura® case is tear resistant and padded, with re-enforced sides and stitching. It comes equipped with practical handles for transport and a full-length zip for easy opening. This way, all components are individually protected by the padding to prevent damage during transit. The special design also allows for the']</th>\n",
              "      <th>['The DNA Messenger has been Tenba&amp;#39;s best-selling bag worldwide since its introduction. As the Tenba DNA 16 DSLR Messenger Bag has been in the market for some time, Tenba felt it was due for an update. The sizes have been consolidated to better accommodate the hardware that photographers are using. Mirrorless cameras are']</th>\n",
              "      <th>['The DNA Messenger has been Tenba&amp;#39;s best-selling bag worldwide since its introduction. As the Tenba DNA 16 Slim Messenger Bag has been in the market for some time, Tenba felt it was due for an update. The sizes have been consolidated to better accommodate the hardware that photographers are using. Mirrorless cameras are']</th>\n",
              "      <th>['The DNA Messenger has been Tenba&amp;#39;s best-selling bag worldwide since its introduction. As the Tenba DNA 13 Messenger Bag has been in the market for some time, Tenba felt it was due for an update. The sizes have been consolidated to better accommodate the hardware that photographers are using. Mirrorless cameras are grow']</th>\n",
              "      <th>['The DNA Messenger has been Tenba&amp;#39;s best-selling bag worldwide since its introduction. As the Tenba DNA 9 Messenger Bag has been in the market for some time, Tenba felt it was due for an update. The sizes have been consolidated to better accommodate the hardware that photographers are using. Mirrorless cameras are growi']</th>\n",
              "      <th>['The BlackRapid Buck 1 Buckle Cover (Black) is designed to work with all BlackRapid R series straps. The cover wraps though and around the buckle on the strap. It helps prevent the theft of the gear attached to the strap. Detachable buckle cover for a camera strap’s buckles Prevents unintentional release Fits all BlackR']</th>\n",
              "      <th>['Holds a Mini to Full-Size Tablet Use as a General-Purpose Bag Interior Dividers Weather-Resistant Fabric Breathe BlackRapid Brad Compatible Part of the BLACKRAPID modular system, the Traveler Bag can be used as an organizer for all your photo/electronic accessories keeping them at the ready. Weather resistant exterior ']</th>\n",
              "      <th>['The Vanguard Supreme 46D Hard Case Virtually indestructible, the rugged Vanguard Supreme Series hard cases have innovative features for unmatched strength and durability. They are O-ring sealed, waterproof (up to a depth of 16.5 feet/5 meters), airtight, and built to withstand the most extreme conditions (-40F/-40C to ']</th>\n",
              "      <th>['Virtually indestructible, the rugged Vanguard Supreme Series hard cases have innovative features for unmatched strength and durability. They are O-ring sealed, waterproof (up to a depth of 16.5 feet/5 meters), airtight, and built to withstand the most extreme conditions (-40F/-40C to 203F/95C). Supreme cases are great ']</th>\n",
              "      <th>['Virtually indestructible, the rugged Vanguard Supreme Series hard cases have innovative features for unmatched strength and durability. They are O-ring sealed, waterproof (up to a depth of 16.5 feet/5 meters), airtight, and built to withstand the most extreme conditions (-40F/-40C to 203F/95C). Supreme cases are great ']</th>\n",
              "      <th>['There is a good reason the VGP cases are the best selling cases from Vanguard. Durable and strong, VGP has a solid aluminum alloy frame with a sleek, professional style. The interior has customizable foam for a secure fit for your gear. Great for airport travel, theyre rugged and ready to withstand rough travel. They b']</th>\n",
              "      <th>['Acid-free double-sided adhesive tabs are an economical, quick and efficient way to mount your photographs. They are made in Denmark to very high quality standards, and being oversize they offer much greater security for your photos, and are ideal for use with enlargements as well. Tabs are small pieces of pre-cut doubl']</th>\n",
              "      <th>['Cumberland Black Leaf FM6670 large photo albums, acid free, dry mount, black pages, post bound, refillable, made in Australia.Black Leaf FM6670 large photo albums are very big photo albums. Simple, robust and economical, these large photo albums are perfect for family histories, holidays and travels, general family ph']</th>\n",
              "      <th>['These packs of refills are available in packs of 20 leaves (another 40 surfaces), and include the necessary extension screws. Page size is 375 x 290 mm, with a usable page surface (the maximum area onto which you can safely mount photos) of 340 x 290 mm (13.3&amp;quot; x 11.4&amp;quot;). They are for the Cumberland FM6650 photo album.']</th>\n",
              "      <th>['Refills are available in packs of 20 leaves (another 40 surfaces), and include the necessary extension screws.']</th>\n",
              "      <th>['Magic Dots are a popular, quick and efficient way to mount photos, notices, signage, etc. Repositionable in the short term, Magic Dots allow for easy re-adjustments to correct the alignment of mounted photos, but they form a firm bond as they cure which holds photos in place securely and permanently. Magic Dots differ ']</th>\n",
              "      <th>['Monza book-bound slip-in photo albums are high quality photo albums to take 300 prints 6x4 inches (10x15cm). Monza covers are elegant, lightly textured vinyl with distinguished gold trim on the front and spine. Pages are made from a heavy-grade white acid-free card, with crystal-clear acid-free polypropylene pockets to']</th>\n",
              "      <th>['The Glamour range of photo albums from Profile is a fun and stylish way for you to present and preserve your most treasured memories. With different colours and capacities on offer, there is nothing to stop you from exploring your options and purchasing a different album next time around to complement your next holiday']</th>\n",
              "      <td>['Cumberland Black Leaf FM6650 medium photo al...</td>\n",
              "      <td>['Refills for the A4 Buckram scrapbooking albu...</td>\n",
              "      <td>['These Walther Photo Corners are in a bumper ...</td>\n",
              "      <td>['Prestige bonded leather makes a classic, tim...</td>\n",
              "      <td>[]</td>\n",
              "    </tr>\n",
              "    <tr>\n",
              "      <th>'https://shopify.bayparkphotos.com.au//collections/camera-bags-backpacks-hard-cases/products/benro-moveover8-18mm-dual-carbon-rail-60cm-slider-c08d6'</th>\n",
              "      <th>'https://shopify.bayparkphotos.com.au//collections/camera-bags-backpacks-hard-cases/products/shootools-bag-slider-150'</th>\n",
              "      <th>'https://shopify.bayparkphotos.com.au//collections/camera-bags-backpacks-hard-cases/products/shootools-bag-slider-80'</th>\n",
              "      <th>'https://shopify.bayparkphotos.com.au//collections/camera-bags-backpacks-hard-cases/products/shootools-bag-slider-100'</th>\n",
              "      <th>'https://shopify.bayparkphotos.com.au//collections/camera-bags-backpacks-hard-cases/products/tenba-dna-16-dslr-messenger-bag'</th>\n",
              "      <th>'https://shopify.bayparkphotos.com.au//collections/camera-bags-backpacks-hard-cases/products/tenba-dna-16-messenger-bag'</th>\n",
              "      <th>'https://shopify.bayparkphotos.com.au//collections/camera-bags-backpacks-hard-cases/products/tenba-dna-13-messenger-bag'</th>\n",
              "      <th>'https://shopify.bayparkphotos.com.au//collections/camera-bags-backpacks-hard-cases/products/tenba-dna-9-messenger-bag'</th>\n",
              "      <th>'https://shopify.bayparkphotos.com.au//collections/camera-bags-backpacks-hard-cases/products/blackrapid-joey-j1-pocket-small'</th>\n",
              "      <th>'https://shopify.bayparkphotos.com.au//collections/camera-bags-backpacks-hard-cases/products/blackrapid-traveler-bag'</th>\n",
              "      <th>'https://shopify.bayparkphotos.com.au//collections/camera-bags-backpacks-hard-cases/products/vanguard-supreme-46d-hard-case-with-divider-bag'</th>\n",
              "      <th>'https://shopify.bayparkphotos.com.au//collections/camera-bags-backpacks-hard-cases/products/camera-case-vanguard-supreme-27d-carry-case-with-divider-bag'</th>\n",
              "      <th>'https://shopify.bayparkphotos.com.au//collections/camera-bags-backpacks-hard-cases/products/vanguard-supreme-40d-hard-case-with-divider-bag'</th>\n",
              "      <th>'https://shopify.bayparkphotos.com.au//collections/camera-bags-backpacks-hard-cases/products/vanguard-vgp-3202-photo-video-case'</th>\n",
              "      <th>'https://shopify.bayparkphotos.com.au//collections/photo-albums/products/photo-splits-photo-tabs'</th>\n",
              "      <th>'https://shopify.bayparkphotos.com.au//collections/photo-albums/products/cumberland-large-black-refillable-dry-mount-album-fm6670'</th>\n",
              "      <th>'https://shopify.bayparkphotos.com.au//collections/photo-albums/products/refills-cumberland-medium-fm6650r'</th>\n",
              "      <th>'https://shopify.bayparkphotos.com.au//collections/photo-albums/products/refills-cumberland-large-fm6670r'</th>\n",
              "      <th>'https://shopify.bayparkphotos.com.au//collections/photo-albums/products/magic-dots-medium'</th>\n",
              "      <th>'https://shopify.bayparkphotos.com.au//collections/photo-albums/products/monza-6x4-slip-in-300-photo-album-me140'</th>\n",
              "      <th>'https://shopify.bayparkphotos.com.au//collections/photo-albums/products/glamour-300-capacity-6x4-photo-album'</th>\n",
              "      <td>'https://shopify.bayparkphotos.com.au//collec...</td>\n",
              "      <td>'https://shopify.bayparkphotos.com.au//collec...</td>\n",
              "      <td>'https://shopify.bayparkphotos.com.au//collec...</td>\n",
              "      <td>'https://shopify.bayparkphotos.com.au//collec...</td>\n",
              "      <td>'https://shopify.bayparkphotos.com.au//collec...</td>\n",
              "    </tr>\n",
              "    <tr>\n",
              "      <th>['http://cdn.shopify.com/s/files/1/0294/6033/2588/products/SHOOTOOLSBAGSLIDER60_1200x1200.png?v=1627513342']</th>\n",
              "      <th>['http://cdn.shopify.com/s/files/1/0294/6033/2588/products/SHOOTOOLSBAGSLIDER60_b36ffb69-b96f-4083-8c27-5c634989a195_1200x1200.png?v=1627514262']</th>\n",
              "      <th>['http://cdn.shopify.com/s/files/1/0294/6033/2588/products/SHOOTOOLSBAGSLIDER80_1200x1200.png?v=1627513700']</th>\n",
              "      <th>['http://cdn.shopify.com/s/files/1/0294/6033/2588/products/SHOOTOOLSBAGSLIDER80_72d47e90-88b2-4a08-9b66-22d8813c6e60_1200x1200.png?v=1627513851']</th>\n",
              "      <th>['http://cdn.shopify.com/s/files/1/0294/6033/2588/products/TenbaDNA16DSLRMessengerBag-Blue_1200x1200.png?v=1627335992', 'http://cdn.shopify.com/s/files/1/0294/6033/2588/products/TenbaDNA16DSLRMessengerBagtop2_1200x1200.jpg?v=1627335992', 'http://cdn.shopify.com/s/files/1/0294/6033/2588/products/TenbaDNA16DSLRMessengerBaginside_1200x1200.jpg?v=1627335992']</th>\n",
              "      <th>['http://cdn.shopify.com/s/files/1/0294/6033/2588/products/TenbaDNA16SlimMessengerBag-Blue_1200x1200.png?v=1627333871', 'http://cdn.shopify.com/s/files/1/0294/6033/2588/products/TenbaDNA16SlimMessengerBagtop2_1200x1200.jpg?v=1627333871', 'http://cdn.shopify.com/s/files/1/0294/6033/2588/products/TenbaDNA16SlimMessengerBagcompartments_1200x1200.jpg?v=1627333871']</th>\n",
              "      <th>['http://cdn.shopify.com/s/files/1/0294/6033/2588/products/TenbaDNA13MessengerBag-Blue_1200x1200.png?v=1627326324', 'http://cdn.shopify.com/s/files/1/0294/6033/2588/products/TenbaDNA13MessengerBagtop2_1200x1200.jpg?v=1627326324', 'http://cdn.shopify.com/s/files/1/0294/6033/2588/products/TenbaDNA13MessengerBaginternal_1200x1200.jpg?v=1627326324']</th>\n",
              "      <th>['http://cdn.shopify.com/s/files/1/0294/6033/2588/products/TenbaDNA9MessengerBag-Blue_1200x1200.jpg?v=1627293381', 'http://cdn.shopify.com/s/files/1/0294/6033/2588/products/TenbaDNA9MessengerBag-Blackinterior3_1200x1200.jpg?v=1627293382', 'http://cdn.shopify.com/s/files/1/0294/6033/2588/products/TenbaDNA9MessengerBag-Blackinterior2_1200x1200.jpg?v=1627293382']</th>\n",
              "      <th>['http://cdn.shopify.com/s/files/1/0294/6033/2588/products/BLACKRAPIDJOEYJ1POCKETSMALL_1200x1200.png?v=1626083763']</th>\n",
              "      <th>['http://cdn.shopify.com/s/files/1/0294/6033/2588/products/BLACKRAPIDTRAVELERBAG2_1200x1200.png?v=1625909664', 'http://cdn.shopify.com/s/files/1/0294/6033/2588/products/BLACKRAPIDTRAVELERBAG_1200x1200.png?v=1625909665']</th>\n",
              "      <th>['http://cdn.shopify.com/s/files/1/0294/6033/2588/products/VANGUARDSUPREME46DHARDCASEWITHDIVIDERBAG_1200x1200.png?v=1625601311']</th>\n",
              "      <th>['http://cdn.shopify.com/s/files/1/0294/6033/2588/products/VANGUARDSUPREME27DHARDCASEWITHDIVIDERBAG_1200x1200.png?v=1625600470']</th>\n",
              "      <th>['http://cdn.shopify.com/s/files/1/0294/6033/2588/products/VANGUARDSUPREME40DHARDCASEWITHDIVIDERBAG_1200x1200.png?v=1625599234']</th>\n",
              "      <th>['http://cdn.shopify.com/s/files/1/0294/6033/2588/products/VANGUARDVGP-3202PHOTOVIDEOCAMERACASE_1200x1200.png?v=1625598545']</th>\n",
              "      <th>['http://cdn.shopify.com/s/files/1/0294/6033/2588/products/Waltherphotosplits500capacity_1200x1200.jpg?v=1622716839', 'http://cdn.shopify.com/s/files/1/0294/6033/2588/products/Waltherphotosplits1000capacity_1200x1200.jpg?v=1622716909']</th>\n",
              "      <th>['http://cdn.shopify.com/s/files/1/0294/6033/2588/products/Cumberland_albums_1200x1200.png?v=1580725555']</th>\n",
              "      <th>['http://cdn.shopify.com/s/files/1/0294/6033/2588/products/cumberland_6650r_refills_0f7f74b7-d958-4e08-8e4d-0d330ea8fc3e_1200x1200.jpg?v=1579908980']</th>\n",
              "      <th>['http://cdn.shopify.com/s/files/1/0294/6033/2588/products/fm6670r_540x_jpg_1200x1200.jpg?v=1579908829']</th>\n",
              "      <th>['http://cdn.shopify.com/s/files/1/0294/6033/2588/products/ProfileMagicdots_1200x1200.jpg?v=1626499633']</th>\n",
              "      <th>['http://cdn.shopify.com/s/files/1/0294/6033/2588/products/Monza_6x4_slip-in_300_photo_albums_Tamworth_1200x1200.jpg?v=1579601126', 'http://cdn.shopify.com/s/files/1/0294/6033/2588/products/Monza6x4slip-in300photoalbum_ME140_Red_1200x1200.jpg?v=1609457677', 'http://cdn.shopify.com/s/files/1/0294/6033/2588/products/Monza_300_Cap_6x4_album_blue_ME140L_1200x1200.jpg?v=1609457677']</th>\n",
              "      <th>['http://cdn.shopify.com/s/files/1/0294/6033/2588/products/300_CAPACITY_GLAMOUR_PHOTO_ALBUM_1200x1200.jpg?v=1627554884', 'http://cdn.shopify.com/s/files/1/0294/6033/2588/products/Glamour300capacitypurplephotoalbum_1200x1200.jpg?v=1627554884', 'http://cdn.shopify.com/s/files/1/0294/6033/2588/products/Glamour300capacitywhitephotoalbum_1200x1200.jpg?v=1627554885']</th>\n",
              "      <td>['http://cdn.shopify.com/s/files/1/0294/6033/2...</td>\n",
              "      <td>['http://cdn.shopify.com/s/files/1/0294/6033/2...</td>\n",
              "      <td>['http://cdn.shopify.com/s/files/1/0294/6033/2...</td>\n",
              "      <td>['http://cdn.shopify.com/s/files/1/0294/6033/2...</td>\n",
              "      <td>['https://cdn.shopify.com/s/files/1/0294/6033/...</td>\n",
              "    </tr>\n",
              "  </tbody>\n",
              "</table>\n",
              "</div>"
            ],
            "text/plain": [
              "                                                                                                                                                                                                                                                                                                                                                                                                                                                                                                                                                                                                                                                                                                                                                                                                                                                                                                                                                                                                                                                                                                                                                            Title  ...                                          Image_url\n",
              "[' SHOOTOOLS BAG SLIDER 60 &ndash; Bay Park Pho... [' SHOOTOOLS BAG SLIDER 150 &ndash; Bay Park Ph... [' SHOOTOOLS BAG SLIDER 80 &ndash; Bay Park Pho... [' SHOOTOOLS BAG SLIDER 100 &ndash; Bay Park Ph... [' Tenba DNA 16 DSLR Messenger Bag &ndash; Bay ... [' Tenba DNA 16 Slim Messenger Bag &ndash; Bay ... [' Tenba DNA 13 Messenger Bag &ndash; Bay Park ... [' Tenba DNA 9 Messenger Bag &ndash; Bay Park P... [' BLACKRAPID JOEY J1 POCKET SMALL &ndash; Bay ... [' BLACKRAPID TRAVELER BAG &ndash; Bay Park Pho... [' VANGUARD SUPREME 46D HARD CASE WITH DIVIDER ... [' Camera Case Vanguard Supreme 27D Carry Case ... [' VANGUARD SUPREME 40D HARD CASE WITH DIVIDER ... [' VANGUARD VGP-3202 PHOTO / VIDEO CAMERA CASE ... [' Photo Splits (Photo Tabs) &ndash; Bay Park P... [' CUMBERLAND LARGE BLACK REFILLABLE DRY MOUNT ... [' Refills Cumberland Medium FM6650R &ndash; Ba... [' Cumberland Large Refills FM6670R &ndash; Bay... [' Magic Dots - Small (pkt of 700 dots) &ndash;... [' Monza 6&quot;x4&quot; slip-in 300 photo albu... [' GLAMOUR 300 CAPACITY 6&quot;X4&quot; PHOTO A...  [' CUMBERLAND MEDIUM BLACK REFILLABLE DRY MOUN...  ...        [' 404 Not Found &ndash; Bay Park Photos ']\n",
              "['210.00']                                         ['279.00']                                         ['210.00']                                         ['249.00']                                         ['279.00']                                         ['249.00']                                         ['229.00']                                         ['199.00']                                         ['33.00']                                          ['99.95']                                          ['399.00']                                         ['99.95']                                          ['319.00']                                         ['119.00']                                         ['8.95']                                           ['110.00']                                         ['44.95']                                          ['59.95']                                          ['7.95']                                           ['49.95']                                          ['29.95']                                                                                   ['79.95']  ...                                                 []\n",
              "['The Cordura® case is tear resistant and padde... ['The Cordura® case is tear resistant and padde... ['The Cordura® case is tear resistant and padde... ['The Cordura® case is tear resistant and padde... ['The DNA Messenger has been Tenba&#39;s best-s... ['The DNA Messenger has been Tenba&#39;s best-s... ['The DNA Messenger has been Tenba&#39;s best-s... ['The DNA Messenger has been Tenba&#39;s best-s... ['The BlackRapid Buck 1 Buckle Cover (Black) is... ['Holds a Mini to Full-Size Tablet Use as a Gen... ['The Vanguard Supreme 46D Hard Case Virtually ... ['Virtually indestructible, the rugged Vanguard... ['Virtually indestructible, the rugged Vanguard... ['There is a good reason the VGP cases are the ... ['Acid-free double-sided adhesive tabs are an e... ['Cumberland Black Leaf FM6670 large photo albu... ['These packs of refills are available in packs... ['Refills are available in packs of 20 leaves (... ['Magic Dots are a popular, quick and efficient... ['Monza book-bound slip-in photo albums are hig... ['The Glamour range of photo albums from Profil...  ['Cumberland Black Leaf FM6650 medium photo al...  ...                                                 []\n",
              " 'https://shopify.bayparkphotos.com.au//collect...  'https://shopify.bayparkphotos.com.au//collect...  'https://shopify.bayparkphotos.com.au//collect...  'https://shopify.bayparkphotos.com.au//collect...  'https://shopify.bayparkphotos.com.au//collect...  'https://shopify.bayparkphotos.com.au//collect...  'https://shopify.bayparkphotos.com.au//collect...  'https://shopify.bayparkphotos.com.au//collect...  'https://shopify.bayparkphotos.com.au//collect...  'https://shopify.bayparkphotos.com.au//collect...  'https://shopify.bayparkphotos.com.au//collect...  'https://shopify.bayparkphotos.com.au//collect...  'https://shopify.bayparkphotos.com.au//collect...  'https://shopify.bayparkphotos.com.au//collect...  'https://shopify.bayparkphotos.com.au//collect...  'https://shopify.bayparkphotos.com.au//collect...  'https://shopify.bayparkphotos.com.au//collect...  'https://shopify.bayparkphotos.com.au//collect...  'https://shopify.bayparkphotos.com.au//collect...  'https://shopify.bayparkphotos.com.au//collect...  'https://shopify.bayparkphotos.com.au//collect...   'https://shopify.bayparkphotos.com.au//collec...  ...   'https://shopify.bayparkphotos.com.au//collec...\n",
              "['http://cdn.shopify.com/s/files/1/0294/6033/25... ['http://cdn.shopify.com/s/files/1/0294/6033/25... ['http://cdn.shopify.com/s/files/1/0294/6033/25... ['http://cdn.shopify.com/s/files/1/0294/6033/25... ['http://cdn.shopify.com/s/files/1/0294/6033/25... ['http://cdn.shopify.com/s/files/1/0294/6033/25... ['http://cdn.shopify.com/s/files/1/0294/6033/25... ['http://cdn.shopify.com/s/files/1/0294/6033/25... ['http://cdn.shopify.com/s/files/1/0294/6033/25... ['http://cdn.shopify.com/s/files/1/0294/6033/25... ['http://cdn.shopify.com/s/files/1/0294/6033/25... ['http://cdn.shopify.com/s/files/1/0294/6033/25... ['http://cdn.shopify.com/s/files/1/0294/6033/25... ['http://cdn.shopify.com/s/files/1/0294/6033/25... ['http://cdn.shopify.com/s/files/1/0294/6033/25... ['http://cdn.shopify.com/s/files/1/0294/6033/25... ['http://cdn.shopify.com/s/files/1/0294/6033/25... ['http://cdn.shopify.com/s/files/1/0294/6033/25... ['http://cdn.shopify.com/s/files/1/0294/6033/25... ['http://cdn.shopify.com/s/files/1/0294/6033/25... ['http://cdn.shopify.com/s/files/1/0294/6033/25...  ['http://cdn.shopify.com/s/files/1/0294/6033/2...  ...  ['https://cdn.shopify.com/s/files/1/0294/6033/...\n",
              "\n",
              "[5 rows x 5 columns]"
            ]
          },
          "metadata": {
            "tags": []
          },
          "execution_count": 100
        }
      ]
    }
  ]
}